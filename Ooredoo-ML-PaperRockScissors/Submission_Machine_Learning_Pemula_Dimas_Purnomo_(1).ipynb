{
  "nbformat": 4,
  "nbformat_minor": 0,
  "metadata": {
    "colab": {
      "name": "Submission_Machine_Learning_Pemula_Dimas_Purnomo (1).ipynb",
      "provenance": [],
      "toc_visible": true
    },
    "kernelspec": {
      "name": "python3",
      "display_name": "Python 3"
    }
  },
  "cells": [
    {
      "cell_type": "markdown",
      "metadata": {
        "id": "RtQa6XVms8zd",
        "colab_type": "text"
      },
      "source": [
        "# **Submission Machine Learning Pemula - Dimas Purnomo**"
      ]
    },
    {
      "cell_type": "markdown",
      "metadata": {
        "id": "-wLu9Myos_gC",
        "colab_type": "text"
      },
      "source": [
        "# **Kriteria Submission**\n",
        "Berikut kriteria submission yang harus Anda penuhi\n",
        "\n",
        "\n",
        "\n",
        "* Dataset harus dibagi menjadi train set dan validation set.\n",
        "* Ukuran validation set harus 40% dari total dataset. (data training memiliki 1314 sampel, dan data validasi sebanyak 874 sampel).\n",
        "* Harus mengimplementasikan augmentasi gambar.\n",
        "* Menggunakan image data generator.\n",
        "* Model harus menggunakan model sequential.\n",
        "* Pelatihan model tidak melebihi waktu 30 menit.\n",
        "* Program dikerjakan pada Google Colaboratory.\n",
        "* Akurasi dari model minimal 85%.\n",
        "* Dapat memprediksi gambar yang diunggah ke Colab seperti gambar di bawah.\n",
        "\n",
        "![alt text](https://dicodingacademy.blob.core.windows.net/academies/202004302318257ec23b834046174a7d426680e488905e.png)\n",
        "\n",
        "\n",
        "Dataset yang dipakai haruslah dataset berikut ini rockpaperscissors.\n",
        "[link text](https://dicodingacademy.blob.core.windows.net/picodiploma/ml_pemula_academy/rockpaperscissors.zip)\n",
        "\n",
        "\n"
      ]
    },
    {
      "cell_type": "markdown",
      "metadata": {
        "id": "9Vmeqeyrs_ej",
        "colab_type": "text"
      },
      "source": [
        "# **Cara 1 : Mendownload Datasheet dan Menyimpan Data Dalam Suatu Folder**\n",
        "\n",
        "\n",
        "```\n",
        "!wget --no-check-certificate \\\n",
        "https://dicodingacademy.blob.core.windows.net/picodiploma/ml_pemula_academy/rockpaperscissors.zip \\\n",
        "-O /tmp/rockpaperscissors.zip\n",
        "```\n"
      ]
    },
    {
      "cell_type": "code",
      "metadata": {
        "id": "ptz08EO2tLEH",
        "colab_type": "code",
        "colab": {
          "base_uri": "https://localhost:8080/",
          "height": 224
        },
        "outputId": "0bf5c74d-da91-45b0-eadd-3feaa565d2cc"
      },
      "source": [
        "!wget --no-check-certificate \\\n",
        "https://dicodingacademy.blob.core.windows.net/picodiploma/ml_pemula_academy/rockpaperscissors.zip \\\n",
        "-O /tmp/rockpaperscissors.zip"
      ],
      "execution_count": 1,
      "outputs": [
        {
          "output_type": "stream",
          "text": [
            "--2020-07-21 12:59:57--  https://dicodingacademy.blob.core.windows.net/picodiploma/ml_pemula_academy/rockpaperscissors.zip\n",
            "Resolving dicodingacademy.blob.core.windows.net (dicodingacademy.blob.core.windows.net)... 52.239.197.36\n",
            "Connecting to dicodingacademy.blob.core.windows.net (dicodingacademy.blob.core.windows.net)|52.239.197.36|:443... connected.\n",
            "HTTP request sent, awaiting response... 200 OK\n",
            "Length: 322873683 (308M) [application/zip]\n",
            "Saving to: ‘/tmp/rockpaperscissors.zip’\n",
            "\n",
            "/tmp/rockpapersciss 100%[===================>] 307.92M  5.88MB/s    in 46s     \n",
            "\n",
            "2020-07-21 13:00:45 (6.63 MB/s) - ‘/tmp/rockpaperscissors.zip’ saved [322873683/322873683]\n",
            "\n"
          ],
          "name": "stdout"
        }
      ]
    },
    {
      "cell_type": "markdown",
      "metadata": {
        "id": "KdNAZG9utO4d",
        "colab_type": "text"
      },
      "source": [
        "# **Cara 2 : Ekstrak Dataseet dengan menggunakan import zipfile**\n",
        "\n",
        "\n",
        "\n",
        "```\n",
        "import zipfile\n",
        "```\n",
        "\n",
        "Cara Mengekstrak Datasheet \n",
        "\n",
        "\n",
        "\n",
        "```\n",
        "location_file = '/tmp/rockpaperscissors.zip'\n",
        "zip_ref = zipfile.ZipFile(location_file, 'r') \n",
        "zip_ref.extractall('/tmp')\n",
        "zip_ref.close()\n",
        "```\n",
        "\n"
      ]
    },
    {
      "cell_type": "code",
      "metadata": {
        "id": "aMcThy3NtqA6",
        "colab_type": "code",
        "colab": {}
      },
      "source": [
        "import zipfile"
      ],
      "execution_count": 2,
      "outputs": []
    },
    {
      "cell_type": "code",
      "metadata": {
        "id": "IPSQ72tHtruE",
        "colab_type": "code",
        "colab": {}
      },
      "source": [
        "location_file = '/tmp/rockpaperscissors.zip'\n",
        "zip_ref = zipfile.ZipFile(location_file, 'r') \n",
        "zip_ref.extractall('/tmp')\n",
        "zip_ref.close()"
      ],
      "execution_count": 3,
      "outputs": []
    },
    {
      "cell_type": "markdown",
      "metadata": {
        "id": "miP8P0QOtvlP",
        "colab_type": "text"
      },
      "source": [
        "# **Cara 3 : Membaca File data yang sudah di Ekstrak dengan import os**\n",
        "\n",
        "\n",
        "\n",
        "```\n",
        "import os\n",
        "os.listdir('/tmp/rockpaperscissors')\n",
        "```\n",
        "\n",
        "Kemudian Menghitung Data Folder Gambar Batu Gunting Kertas. dengan menggunakan counter \"len\"\n",
        "\n",
        "```\n",
        "print('Jumlah Gambar pada folder Rock', len(os.listdir('/tmp/rockpaperscissors/rock')))\n",
        "print('Jumlah Gambar pada folder Scissors', len(os.listdir('/tmp/rockpaperscissors/scissors')))\n",
        "print('Jumlah Gambar pada folder Paper', len(os.listdir('/tmp/rockpaperscissors/paper')))\n",
        "```\n",
        "\n",
        "\n",
        "\n",
        "\n"
      ]
    },
    {
      "cell_type": "code",
      "metadata": {
        "id": "xavoXS4QuF0o",
        "colab_type": "code",
        "colab": {
          "base_uri": "https://localhost:8080/",
          "height": 34
        },
        "outputId": "bed6fc13-de91-4761-a55c-15871948d3f0"
      },
      "source": [
        "import os\n",
        "os.listdir('/tmp/rockpaperscissors')"
      ],
      "execution_count": 4,
      "outputs": [
        {
          "output_type": "execute_result",
          "data": {
            "text/plain": [
              "['rps-cv-images', 'scissors', 'paper', 'rock', 'README_rpc-cv-images.txt']"
            ]
          },
          "metadata": {
            "tags": []
          },
          "execution_count": 4
        }
      ]
    },
    {
      "cell_type": "code",
      "metadata": {
        "id": "O5yHMoNivUom",
        "colab_type": "code",
        "colab": {
          "base_uri": "https://localhost:8080/",
          "height": 68
        },
        "outputId": "e24a3d47-3fcd-49c4-8d7b-8e934757a316"
      },
      "source": [
        "print('Jumlah Gambar pada folder Rock', len(os.listdir('/tmp/rockpaperscissors/rock')))\n",
        "print('Jumlah Gambar pada folder Scissors', len(os.listdir('/tmp/rockpaperscissors/scissors')))\n",
        "print('Jumlah Gambar pada folder Paper', len(os.listdir('/tmp/rockpaperscissors/paper')))"
      ],
      "execution_count": 5,
      "outputs": [
        {
          "output_type": "stream",
          "text": [
            "Jumlah Gambar pada folder Rock 726\n",
            "Jumlah Gambar pada folder Scissors 750\n",
            "Jumlah Gambar pada folder Paper 712\n"
          ],
          "name": "stdout"
        }
      ]
    },
    {
      "cell_type": "markdown",
      "metadata": {
        "id": "LWrCuPuTEstK",
        "colab_type": "text"
      },
      "source": [
        "Menghapus Data tidak penting pada hasil estraksi rar"
      ]
    },
    {
      "cell_type": "code",
      "metadata": {
        "id": "5J73NGHHDdkg",
        "colab_type": "code",
        "colab": {}
      },
      "source": [
        "from google.colab import files\n",
        "%rm -rf '/tmp/rockpaperscissors/rps-cv-images'\n",
        "!rm '/tmp/rockpaperscissors/README_rpc-cv-images.txt'"
      ],
      "execution_count": 6,
      "outputs": []
    },
    {
      "cell_type": "code",
      "metadata": {
        "id": "26giG_tEDkNN",
        "colab_type": "code",
        "colab": {
          "base_uri": "https://localhost:8080/",
          "height": 34
        },
        "outputId": "c094ab9d-db4c-4e7c-8288-def36fca6444"
      },
      "source": [
        "import os\n",
        "os.listdir('/tmp/rockpaperscissors')"
      ],
      "execution_count": 7,
      "outputs": [
        {
          "output_type": "execute_result",
          "data": {
            "text/plain": [
              "['scissors', 'paper', 'rock']"
            ]
          },
          "metadata": {
            "tags": []
          },
          "execution_count": 7
        }
      ]
    },
    {
      "cell_type": "markdown",
      "metadata": {
        "id": "w9Qer6uxNQ0B",
        "colab_type": "text"
      },
      "source": [
        "# **Cara 4 : Membuat Data Train dan Data Validation**\n"
      ]
    },
    {
      "cell_type": "markdown",
      "metadata": {
        "id": "F3npowe9PFTy",
        "colab_type": "text"
      },
      "source": [
        "1. Membuat Directori "
      ]
    },
    {
      "cell_type": "code",
      "metadata": {
        "id": "dTuxZataNZHM",
        "colab_type": "code",
        "colab": {}
      },
      "source": [
        "base_dir = '/tmp/rockpaperscissors'\n",
        "train_dir = os.path.join(base_dir,'train')\n",
        "validation_dir = os.path.join(base_dir, 'validation')"
      ],
      "execution_count": 8,
      "outputs": []
    },
    {
      "cell_type": "markdown",
      "metadata": {
        "id": "iValFdlPPMAZ",
        "colab_type": "text"
      },
      "source": [
        "2. Directori Train dan Validation\n"
      ]
    },
    {
      "cell_type": "code",
      "metadata": {
        "id": "2Zao4igVPT1T",
        "colab_type": "code",
        "colab": {}
      },
      "source": [
        "os.mkdir(train_dir)\n",
        "os.mkdir(validation_dir)"
      ],
      "execution_count": 9,
      "outputs": []
    },
    {
      "cell_type": "markdown",
      "metadata": {
        "id": "XLg2iB_LPhab",
        "colab_type": "text"
      },
      "source": [
        "3. Mengelompokan Data Folder Images kedalam suatu Variabel"
      ]
    },
    {
      "cell_type": "code",
      "metadata": {
        "id": "rk510yr4Ppvv",
        "colab_type": "code",
        "colab": {}
      },
      "source": [
        "rock_dir = os.path.join(base_dir,'rock')\n",
        "paper_dir = os.path.join(base_dir, 'paper')\n",
        "scissors_dir = os.path.join(base_dir, 'scissors')"
      ],
      "execution_count": 10,
      "outputs": []
    },
    {
      "cell_type": "markdown",
      "metadata": {
        "id": "uLmx0rFtPuZt",
        "colab_type": "text"
      },
      "source": [
        "4. Memecahkan Directory antara Data Train dengan Data Validation untuk tiap rock paper dan scissors dengan sklearn.model_selection"
      ]
    },
    {
      "cell_type": "code",
      "metadata": {
        "id": "MgvwSeBZP0ze",
        "colab_type": "code",
        "colab": {}
      },
      "source": [
        "from sklearn.model_selection import train_test_split\n",
        "\n",
        "train_rock_dir, validation_rock_dir = train_test_split(os.listdir(rock_dir), test_size = 0.4)\n",
        "train_paper_dir, validation_paper_dir = train_test_split(os.listdir(paper_dir), test_size = 0.4)\n",
        "train_scissors_dir, validation_scissors_dir = train_test_split(os.listdir(scissors_dir), test_size = 0.4)"
      ],
      "execution_count": 11,
      "outputs": []
    },
    {
      "cell_type": "markdown",
      "metadata": {
        "id": "WSoeQy7lQn3S",
        "colab_type": "text"
      },
      "source": [
        "5. Memasukan folder train kedalam sebuah variabel"
      ]
    },
    {
      "cell_type": "code",
      "metadata": {
        "id": "L6Q36aveQy3j",
        "colab_type": "code",
        "colab": {}
      },
      "source": [
        "train_rock = os.path.join(train_dir, 'rock')\n",
        "train_paper = os.path.join(train_dir, 'paper')\n",
        "train_scissors = os.path.join(train_dir, 'scissors')"
      ],
      "execution_count": 12,
      "outputs": []
    },
    {
      "cell_type": "markdown",
      "metadata": {
        "id": "8rkHQJi3Q_JT",
        "colab_type": "text"
      },
      "source": [
        "6. Memasukan folder validation kedalam sebuah variabel"
      ]
    },
    {
      "cell_type": "code",
      "metadata": {
        "id": "AvmFSY0LRHBd",
        "colab_type": "code",
        "colab": {}
      },
      "source": [
        "validation_rock = os.path.join(validation_dir, 'rock')\n",
        "validation_paper = os.path.join(validation_dir, 'paper')\n",
        "validation_scissors = os.path.join(validation_dir, 'scissors')"
      ],
      "execution_count": 13,
      "outputs": []
    },
    {
      "cell_type": "markdown",
      "metadata": {
        "id": "kxUAo42-Un45",
        "colab_type": "text"
      },
      "source": [
        "7. Membuat folder baru di dalam directory train dan validation"
      ]
    },
    {
      "cell_type": "code",
      "metadata": {
        "id": "9jt-2jXuUv5U",
        "colab_type": "code",
        "colab": {}
      },
      "source": [
        "if not os.path.exists(train_rock):\n",
        "  os.mkdir(train_rock)\n",
        "if not os.path.exists(train_paper):\n",
        "  os.mkdir(train_paper)\n",
        "if not os.path.exists(train_scissors):\n",
        "  os.mkdir(train_scissors)\n",
        "\n",
        "if not os.path.exists(validation_rock):\n",
        "  os.mkdir(validation_rock)\n",
        "if not os.path.exists(validation_paper):\n",
        "  os.mkdir(validation_paper)\n",
        "if not os.path.exists(validation_scissors):\n",
        "  os.mkdir(validation_scissors)"
      ],
      "execution_count": 14,
      "outputs": []
    },
    {
      "cell_type": "markdown",
      "metadata": {
        "id": "93ajhEcDU09P",
        "colab_type": "text"
      },
      "source": [
        "8. Menyalin Data train dan Data Validation ke Folder baru dibuat dilangkah 7 dengan menggunakan shutil"
      ]
    },
    {
      "cell_type": "code",
      "metadata": {
        "id": "WccDjMzfU80-",
        "colab_type": "code",
        "colab": {}
      },
      "source": [
        "import shutil\n",
        "\n",
        "for i in train_rock_dir:\n",
        "  shutil.copy(os.path.join(rock_dir, i), os.path.join(train_rock, i))\n",
        "for i in train_paper_dir:\n",
        "  shutil.copy(os.path.join(paper_dir,i), os.path.join(train_paper,i))\n",
        "for i in train_scissors_dir:\n",
        "  shutil.copy(os.path.join(scissors_dir,i), os.path.join(train_scissors,i))\n",
        "\n",
        "for i in validation_rock_dir:\n",
        "  shutil.copy(os.path.join(rock_dir, i), os.path.join(validation_rock,i))\n",
        "for i in validation_paper_dir:\n",
        "  shutil.copy(os.path.join(paper_dir,i), os.path.join(validation_paper,i))\n",
        "for i in validation_scissors_dir:\n",
        "  shutil.copy(os.path.join(scissors_dir,i), os.path.join(validation_scissors,i))"
      ],
      "execution_count": 15,
      "outputs": []
    },
    {
      "cell_type": "markdown",
      "metadata": {
        "id": "ok6gkxrzEWz-",
        "colab_type": "text"
      },
      "source": [
        "9. Menampilkan Jumlah Total Train dan Validation"
      ]
    },
    {
      "cell_type": "code",
      "metadata": {
        "id": "sHVME4iSAYLy",
        "colab_type": "code",
        "colab": {
          "base_uri": "https://localhost:8080/",
          "height": 119
        },
        "outputId": "15d21ba4-b744-42d5-c5b6-34f2b5c7ece5"
      },
      "source": [
        "print('Jumlah Gambar pada folder Train Rock', len(os.listdir('/tmp/rockpaperscissors/train/rock')))\n",
        "print('Jumlah Gambar pada folder Val Rock', len(os.listdir('/tmp/rockpaperscissors/validation/rock')))\n",
        "print('Jumlah Gambar pada folder Train Scissors', len(os.listdir('/tmp/rockpaperscissors/train/scissors')))\n",
        "print('Jumlah Gambar pada folder Val Scissors', len(os.listdir('/tmp/rockpaperscissors/validation/scissors')))\n",
        "print('Jumlah Gambar pada folder Train Paper', len(os.listdir('/tmp/rockpaperscissors/train/paper')))\n",
        "print('Jumlah Gambar pada folder Val paper', len(os.listdir('/tmp/rockpaperscissors/validation/paper')))\n",
        "\n"
      ],
      "execution_count": 16,
      "outputs": [
        {
          "output_type": "stream",
          "text": [
            "Jumlah Gambar pada folder Train Rock 435\n",
            "Jumlah Gambar pada folder Val Rock 291\n",
            "Jumlah Gambar pada folder Train Scissors 450\n",
            "Jumlah Gambar pada folder Val Scissors 300\n",
            "Jumlah Gambar pada folder Train Paper 427\n",
            "Jumlah Gambar pada folder Val paper 285\n"
          ],
          "name": "stdout"
        }
      ]
    },
    {
      "cell_type": "markdown",
      "metadata": {
        "id": "iZrlNmuWVbkM",
        "colab_type": "text"
      },
      "source": [
        "# **Cara 5 : Dataset PipeLine dan Augmentation**\n",
        "Sebuah folder menjadi sebuah yang bisa dibaca oleh tensorflow\n",
        "\n",
        "\n",
        "```\n",
        "from tensorflow.keras.preprocessing.image import ImageDataGenerator\n",
        "```\n",
        "\n",
        "Fungsi Image Generator berguna untuk mengenerate data image dari sebuah folder yang telah dibuat sebelumnya. Dimana kita bisa menentukan generator atau augmentasi nya seperti apa yang bisa dilakukan. Langkah - langkahnya yaitu:\n",
        "\n",
        "1. Mendefinisikan transformasi data yang akan digunakan"
      ]
    },
    {
      "cell_type": "code",
      "metadata": {
        "id": "LD7wDQlNf4L0",
        "colab_type": "code",
        "colab": {}
      },
      "source": [
        "import tensorflow as tf\n",
        "from tensorflow.keras.preprocessing.image import ImageDataGenerator"
      ],
      "execution_count": 17,
      "outputs": []
    },
    {
      "cell_type": "code",
      "metadata": {
        "id": "5cYufOOcgGdW",
        "colab_type": "code",
        "colab": {}
      },
      "source": [
        "train_datagen = ImageDataGenerator(\n",
        "                    rescale=1./255,\n",
        "                    rotation_range=20,\n",
        "                    horizontal_flip=True,\n",
        "                    shear_range = 0.2,\n",
        "                    fill_mode = 'nearest')\n",
        " \n",
        "test_datagen = ImageDataGenerator(\n",
        "                    rescale=1./255,\n",
        "                    rotation_range=20,\n",
        "                    horizontal_flip=True,\n",
        "                    shear_range = 0.2,\n",
        "                    fill_mode = 'nearest')"
      ],
      "execution_count": 18,
      "outputs": []
    },
    {
      "cell_type": "markdown",
      "metadata": {
        "id": "DenW77rJf9g_",
        "colab_type": "text"
      },
      "source": [
        "Note penggunaan :\n",
        "1. Rescaling data menjadi 1/255.\n",
        "2. Range Rotasi : untuk rotasi gambar yang digunakan menjadi 20\n",
        "3. Shearing image : untuk geser sudut) skala 0.2\n",
        "4. Horizontal flip : memutar gambar horizontal diset TRUE\n",
        "5. Fill mode nya nearset"
      ]
    },
    {
      "cell_type": "markdown",
      "metadata": {
        "id": "Xow1bd1bglhT",
        "colab_type": "text"
      },
      "source": [
        "2. Membuat Flow Data"
      ]
    },
    {
      "cell_type": "code",
      "metadata": {
        "id": "WARgNRyehGsy",
        "colab_type": "code",
        "colab": {
          "base_uri": "https://localhost:8080/",
          "height": 51
        },
        "outputId": "d0239697-286a-4f03-a0b7-a5c226cca20f"
      },
      "source": [
        "train_generator = train_datagen.flow_from_directory(\n",
        "    train_dir,\n",
        "    target_size =(150,150),\n",
        "    batch_size = 32,\n",
        "    class_mode = 'categorical'\n",
        ")\n",
        "\n",
        "validation_generator = test_datagen.flow_from_directory(\n",
        "    validation_dir,\n",
        "    target_size = (150,150),\n",
        "    batch_size = 32,\n",
        "    class_mode = 'categorical'\n",
        ")"
      ],
      "execution_count": 19,
      "outputs": [
        {
          "output_type": "stream",
          "text": [
            "Found 1312 images belonging to 3 classes.\n",
            "Found 876 images belonging to 3 classes.\n"
          ],
          "name": "stdout"
        }
      ]
    },
    {
      "cell_type": "markdown",
      "metadata": {
        "id": "VECMqSreisTA",
        "colab_type": "text"
      },
      "source": [
        "# **Cara 6 : Convolutional Neural Network(CNN)**"
      ]
    },
    {
      "cell_type": "code",
      "metadata": {
        "id": "zKTbJeD0i8UE",
        "colab_type": "code",
        "colab": {}
      },
      "source": [
        "model = tf.keras.models.Sequential([\n",
        "  tf.keras.layers.Conv2D(32, (3,3), padding='same', activation = 'relu', input_shape= (150,150,3)),\n",
        "  tf.keras.layers.MaxPooling2D(2,2),\n",
        "  tf.keras.layers.Conv2D(64,(3,3), padding='same', activation= 'relu'),\n",
        "  tf.keras.layers.MaxPooling2D(2,2),\n",
        "  tf.keras.layers.Conv2D(128,(3,3), padding='same', activation= 'relu'),\n",
        "  tf.keras.layers.MaxPooling2D(2,2),\n",
        "  tf.keras.layers.Conv2D(256,(3,3), padding='same', activation= 'relu'),\n",
        "  tf.keras.layers.MaxPooling2D(2,2),\n",
        "  tf.keras.layers.Flatten(),\n",
        "  tf.keras.layers.Dense(512, activation= 'relu'),\n",
        "  tf.keras.layers.Dense(3, activation= 'softmax')\n",
        "])"
      ],
      "execution_count": 20,
      "outputs": []
    },
    {
      "cell_type": "markdown",
      "metadata": {
        "id": "v3HVVqzBjT6p",
        "colab_type": "text"
      },
      "source": [
        "Penjelasan Fungsi : \n",
        "1. Convolution : proses konvolusi khusus gambar 2D (Convolution2D(Conv2D)).\n",
        "2. MaxPooling: proses pengambilan nilai maximum, dimana proses ini digunakan setelah proses convolution, yaitu dengan mengambil nilai maximumnya untuk memperkecil feature maps. Karena data berupa gambar maka MaxPolling yang digunakan adalah MaxPooling2D.\n",
        "3. Flatten : proses flattening yang dilakukan setelah proses maxpooling.\n",
        "4. Dense : mendefinisikan parameter neural networks. Dimana pada dense layernya sebanyak 3 input sebagai petanda bahwa kita akan menghasilkan 3 kelas Pada baris terakhir pada Dense Layer didefinisikan input 3 sebagai tanda bahwa kita mau menghasilkan 3 kelas(Rock, Scissor atau Paper).\n",
        "5. Activation : karena datanya memiliki 3 kelas makan digunakan softmax"
      ]
    },
    {
      "cell_type": "markdown",
      "metadata": {
        "id": "9P1ul1uRkNUP",
        "colab_type": "text"
      },
      "source": [
        "# **Cara 7 : Losss Function**\n",
        "Data lebih dari 2 kelas sehingga untuk `lost function` yang digunakan adalah \n",
        "1. `categorical_crossentropy` dan \n",
        "2. optimazernya `RMSprop` dan learning rate sebesar 0.0001 dan momentum sebesar 0.9"
      ]
    },
    {
      "cell_type": "code",
      "metadata": {
        "id": "004XwbIVk8bs",
        "colab_type": "code",
        "colab": {
          "base_uri": "https://localhost:8080/",
          "height": 34
        },
        "outputId": "dbc88616-8efd-4e71-a973-5159bf54b4fa"
      },
      "source": [
        "from keras.optimizers import RMSprop"
      ],
      "execution_count": 21,
      "outputs": [
        {
          "output_type": "stream",
          "text": [
            "Using TensorFlow backend.\n"
          ],
          "name": "stderr"
        }
      ]
    },
    {
      "cell_type": "code",
      "metadata": {
        "id": "mNhdY9YsktcI",
        "colab_type": "code",
        "colab": {}
      },
      "source": [
        "model.compile(loss = 'categorical_crossentropy',\n",
        "              optimizer = tf.optimizers.Adam(),\n",
        "              metrics=['accuracy'])"
      ],
      "execution_count": 22,
      "outputs": []
    },
    {
      "cell_type": "markdown",
      "metadata": {
        "id": "iziYN4Vsl4Ww",
        "colab_type": "text"
      },
      "source": [
        "## **Cara 8 : Trainning Model**"
      ]
    },
    {
      "cell_type": "code",
      "metadata": {
        "id": "mCJH7JeNmAUw",
        "colab_type": "code",
        "colab": {
          "base_uri": "https://localhost:8080/",
          "height": 306
        },
        "outputId": "30f496d0-74cc-4efe-fc97-981678dc58e6"
      },
      "source": [
        "history = model.fit(\n",
        "    train_generator,\n",
        "    steps_per_epoch = 25,\n",
        "    epochs = 20,\n",
        "    validation_data = validation_generator,\n",
        "    validation_steps = 5,\n",
        "    verbose =2\n",
        ")"
      ],
      "execution_count": null,
      "outputs": [
        {
          "output_type": "stream",
          "text": [
            "Epoch 1/20\n",
            "25/25 - 51s - loss: 1.1113 - accuracy: 0.3887 - val_loss: 1.0000 - val_accuracy: 0.4437\n",
            "Epoch 2/20\n",
            "25/25 - 55s - loss: 0.6506 - accuracy: 0.7325 - val_loss: 0.3618 - val_accuracy: 0.8875\n",
            "Epoch 3/20\n",
            "25/25 - 51s - loss: 0.2871 - accuracy: 0.8938 - val_loss: 0.3260 - val_accuracy: 0.8938\n",
            "Epoch 4/20\n",
            "25/25 - 51s - loss: 0.2304 - accuracy: 0.9225 - val_loss: 0.3572 - val_accuracy: 0.8500\n",
            "Epoch 5/20\n",
            "25/25 - 51s - loss: 0.2020 - accuracy: 0.9237 - val_loss: 0.2988 - val_accuracy: 0.9062\n",
            "Epoch 6/20\n",
            "25/25 - 53s - loss: 0.1710 - accuracy: 0.9438 - val_loss: 0.1752 - val_accuracy: 0.9375\n",
            "Epoch 7/20\n",
            "25/25 - 51s - loss: 0.1283 - accuracy: 0.9600 - val_loss: 0.1186 - val_accuracy: 0.9688\n",
            "Epoch 8/20\n",
            "25/25 - 51s - loss: 0.1269 - accuracy: 0.9638 - val_loss: 0.2164 - val_accuracy: 0.9187\n",
            "Epoch 9/20\n"
          ],
          "name": "stdout"
        }
      ]
    },
    {
      "cell_type": "markdown",
      "metadata": {
        "id": "ADXBbNJqre3y",
        "colab_type": "text"
      },
      "source": [
        "# **Cara 9 : Visualisasi hasil data training (Plot accuracy & loss model)**"
      ]
    },
    {
      "cell_type": "code",
      "metadata": {
        "id": "5gGqhTMoroWg",
        "colab_type": "code",
        "colab": {
          "base_uri": "https://localhost:8080/",
          "height": 499
        },
        "outputId": "71ab26eb-703d-4d40-fd89-74da3925b1ff"
      },
      "source": [
        "import numpy as np\n",
        "from google.colab import files\n",
        "from keras.preprocessing import image\n",
        "import matplotlib.pyplot as plt\n",
        "import matplotlib.image as mpimg\n",
        "import matplotlib.pyplot as plt\n",
        "import matplotlib.image as mpimg\n",
        "%matplotlib inline\n",
        " \n",
        "\n",
        "acc = history.history['accuracy']\n",
        "val_acc = history.history['val_accuracy']\n",
        "\n",
        "loss = history.history['loss']\n",
        "val_loss = history.history['val_loss']\n",
        "\n",
        "epochs_range = range(20)\n",
        "\n",
        "plt.figure(figsize=(8, 8))\n",
        "plt.subplot(1, 2, 1)\n",
        "plt.plot(epochs_range, acc, label='Training Accuracy')\n",
        "plt.plot(epochs_range, val_acc, label='Validation Accuracy')\n",
        "plt.legend(loc='lower right')\n",
        "plt.title('Training and Validation Accuracy')\n",
        "\n",
        "plt.subplot(1, 2, 2)\n",
        "plt.plot(epochs_range, loss, label='Training Loss')\n",
        "plt.plot(epochs_range, val_loss, label='Validation Loss')\n",
        "plt.legend(loc='upper right')\n",
        "plt.title('Training and Validation Loss')\n",
        "plt.show()"
      ],
      "execution_count": null,
      "outputs": [
        {
          "output_type": "display_data",
          "data": {
            "image/png": "[encoded data removed]",
            "text/plain": [
              "<Figure size 576x576 with 2 Axes>"
            ]
          },
          "metadata": {
            "tags": [],
            "needs_background": "light"
          }
        }
      ]
    },
    {
      "cell_type": "markdown",
      "metadata": {
        "id": "S9KR_Vvtu_e3",
        "colab_type": "text"
      },
      "source": [
        "# **Prediksi Gambar**"
      ]
    },
    {
      "cell_type": "code",
      "metadata": {
        "id": "U4ah08lLvL3F",
        "colab_type": "code",
        "colab": {
          "resources": {
            "http://localhost:8080/nbextensions/google.colab/files.js": {
              "data": "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",
              "ok": true,
              "headers": [
                [
                  "content-type",
                  "application/javascript"
                ]
              ],
              "status": 200,
              "status_text": ""
            }
          },
          "base_uri": "https://localhost:8080/",
          "height": 358
        },
        "outputId": "be798a23-a443-4a57-d34e-4e8afc0d9387"
      },
      "source": [
        "from google.colab import files\n",
        "uploaded = files.upload()\n",
        "\n",
        "for fn in uploaded.keys():\n",
        "\n",
        "  path = fn \n",
        "  img = image.load_img(path, target_size =(150,150))\n",
        "  imgplot = plt.imshow(img)\n",
        "  x = image.img_to_array(img)\n",
        "  x = np.expand_dims(x, axis=0)\n",
        "\n",
        "  images = np.vstack([x])\n",
        "  classes = model.predict(images, batch_size=10)\n",
        "\n",
        "  print(fn)\n",
        "  if classes[0,0]!=0:\n",
        "    print('paper')\n",
        "  elif classes[0,1]!=0:\n",
        "    print('rock')\n",
        "  else:\n",
        "    print('scissors')"
      ],
      "execution_count": null,
      "outputs": [
        {
          "output_type": "display_data",
          "data": {
            "text/html": [
              "\n",
              "     <input type=\"file\" id=\"files-9db8cf36-32b7-4278-8b46-489d48d82d72\" name=\"files[]\" multiple disabled\n",
              "        style=\"border:none\" />\n",
              "     <output id=\"result-9db8cf36-32b7-4278-8b46-489d48d82d72\">\n",
              "      Upload widget is only available when the cell has been executed in the\n",
              "      current browser session. Please rerun this cell to enable.\n",
              "      </output>\n",
              "      <script src=\"/nbextensions/google.colab/files.js\"></script> "
            ],
            "text/plain": [
              "<IPython.core.display.HTML object>"
            ]
          },
          "metadata": {
            "tags": []
          }
        },
        {
          "output_type": "stream",
          "text": [
            "Saving WIN_20200721_16_58_18_Pro.jpg to WIN_20200721_16_58_18_Pro (1).jpg\n",
            "WIN_20200721_16_58_18_Pro.jpg\n",
            "scissors\n"
          ],
          "name": "stdout"
        },
        {
          "output_type": "display_data",
          "data": {
            "image/png": "[encoded data removed]",
            "text/plain": [
              "<Figure size 432x288 with 1 Axes>"
            ]
          },
          "metadata": {
            "tags": [],
            "needs_background": "light"
          }
        }
      ]
    }
  ]
}